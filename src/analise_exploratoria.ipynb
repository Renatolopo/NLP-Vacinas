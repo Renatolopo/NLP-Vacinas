{
 "cells": [
  {
   "cell_type": "code",
   "execution_count": 1,
   "source": [
    "import pandas as pd\r\n",
    "import matplotlib.pyplot as plt"
   ],
   "outputs": [],
   "metadata": {}
  },
  {
   "cell_type": "markdown",
   "source": [
    "# Análise dos comentarios das Noticias"
   ],
   "metadata": {}
  },
  {
   "cell_type": "code",
   "execution_count": 4,
   "source": [
    "df = pd.read_csv('../data/comentario_vacina.csv')\r\n",
    "df.head()"
   ],
   "outputs": [
    {
     "output_type": "execute_result",
     "data": {
      "text/html": [
       "<div>\n",
       "<style scoped>\n",
       "    .dataframe tbody tr th:only-of-type {\n",
       "        vertical-align: middle;\n",
       "    }\n",
       "\n",
       "    .dataframe tbody tr th {\n",
       "        vertical-align: top;\n",
       "    }\n",
       "\n",
       "    .dataframe thead th {\n",
       "        text-align: right;\n",
       "    }\n",
       "</style>\n",
       "<table border=\"1\" class=\"dataframe\">\n",
       "  <thead>\n",
       "    <tr style=\"text-align: right;\">\n",
       "      <th></th>\n",
       "      <th>fk_id</th>\n",
       "      <th>comentario</th>\n",
       "      <th>site</th>\n",
       "    </tr>\n",
       "  </thead>\n",
       "  <tbody>\n",
       "    <tr>\n",
       "      <th>0</th>\n",
       "      <td>3652</td>\n",
       "      <td>O\\nex-ministro da Saúde, Luiz Henrique Mandett...</td>\n",
       "      <td>G1</td>\n",
       "    </tr>\n",
       "    <tr>\n",
       "      <th>1</th>\n",
       "      <td>3652</td>\n",
       "      <td>Ainda vai demorar demais pra chegar a vacina.....</td>\n",
       "      <td>G1</td>\n",
       "    </tr>\n",
       "    <tr>\n",
       "      <th>2</th>\n",
       "      <td>3652</td>\n",
       "      <td>E a cloroquina, os milhões investido, foram pr...</td>\n",
       "      <td>G1</td>\n",
       "    </tr>\n",
       "    <tr>\n",
       "      <th>3</th>\n",
       "      <td>3652</td>\n",
       "      <td>CARISSIMO SR THIAGO LUZ , TENHO VARIOS AMIGOS ...</td>\n",
       "      <td>G1</td>\n",
       "    </tr>\n",
       "    <tr>\n",
       "      <th>4</th>\n",
       "      <td>3652</td>\n",
       "      <td>Ué.... ea cloroquina milagrosa defendida pelo ...</td>\n",
       "      <td>G1</td>\n",
       "    </tr>\n",
       "  </tbody>\n",
       "</table>\n",
       "</div>"
      ],
      "text/plain": [
       "   fk_id                                         comentario site\n",
       "0   3652  O\\nex-ministro da Saúde, Luiz Henrique Mandett...   G1\n",
       "1   3652  Ainda vai demorar demais pra chegar a vacina.....   G1\n",
       "2   3652  E a cloroquina, os milhões investido, foram pr...   G1\n",
       "3   3652  CARISSIMO SR THIAGO LUZ , TENHO VARIOS AMIGOS ...   G1\n",
       "4   3652  Ué.... ea cloroquina milagrosa defendida pelo ...   G1"
      ]
     },
     "metadata": {},
     "execution_count": 4
    }
   ],
   "metadata": {}
  },
  {
   "cell_type": "code",
   "execution_count": 6,
   "source": [
    "df.shape"
   ],
   "outputs": [
    {
     "output_type": "execute_result",
     "data": {
      "text/plain": [
       "(10152, 3)"
      ]
     },
     "metadata": {},
     "execution_count": 6
    }
   ],
   "metadata": {}
  },
  {
   "cell_type": "markdown",
   "source": [
    "## Distribuição dos comentarios coletados em cada site"
   ],
   "metadata": {}
  },
  {
   "cell_type": "code",
   "execution_count": 45,
   "source": [
    "dist = pd.DataFrame(df['site'].value_counts()).reset_index(False)\r\n",
    "plt.bar(x=dist['index'], height=dist['site'])\r\n",
    "plt.title('Quantidade de noticias por site')\r\n"
   ],
   "outputs": [
    {
     "output_type": "execute_result",
     "data": {
      "text/plain": [
       "Text(0.5, 1.0, 'Quantidade de noticias por site')"
      ]
     },
     "metadata": {},
     "execution_count": 45
    },
    {
     "output_type": "display_data",
     "data": {
      "image/png": "[encoded data removed]",
      "text/plain": [
       "<Figure size 432x288 with 1 Axes>"
      ]
     },
     "metadata": {
      "needs_background": "light"
     }
    }
   ],
   "metadata": {}
  },
  {
   "cell_type": "markdown",
   "source": [
    "O site do folha de Sp conta com mais comentarios do que o site do G1"
   ],
   "metadata": {}
  },
  {
   "cell_type": "markdown",
   "source": [
    "# Análise  das Noticias"
   ],
   "metadata": {}
  },
  {
   "cell_type": "code",
   "execution_count": 48,
   "source": [
    "df = pd.read_csv('../data/noticia_vacina.csv')\r\n",
    "df.head()"
   ],
   "outputs": [
    {
     "output_type": "execute_result",
     "data": {
      "text/html": [
       "<div>\n",
       "<style scoped>\n",
       "    .dataframe tbody tr th:only-of-type {\n",
       "        vertical-align: middle;\n",
       "    }\n",
       "\n",
       "    .dataframe tbody tr th {\n",
       "        vertical-align: top;\n",
       "    }\n",
       "\n",
       "    .dataframe thead th {\n",
       "        text-align: right;\n",
       "    }\n",
       "</style>\n",
       "<table border=\"1\" class=\"dataframe\">\n",
       "  <thead>\n",
       "    <tr style=\"text-align: right;\">\n",
       "      <th></th>\n",
       "      <th>id</th>\n",
       "      <th>title</th>\n",
       "      <th>link</th>\n",
       "      <th>publishied</th>\n",
       "      <th>site</th>\n",
       "    </tr>\n",
       "  </thead>\n",
       "  <tbody>\n",
       "    <tr>\n",
       "      <th>0</th>\n",
       "      <td>3650</td>\n",
       "      <td>Mais uma vacina contra a Covid-19 será testada...</td>\n",
       "      <td>https://g1.globo.com/ba/bahia/noticia/2020/09/...</td>\n",
       "      <td>Wed, 23 Sep 2020 00:34:04 -0000</td>\n",
       "      <td>G1</td>\n",
       "    </tr>\n",
       "    <tr>\n",
       "      <th>1</th>\n",
       "      <td>3651</td>\n",
       "      <td>Chineses anunciam resultados promissores de va...</td>\n",
       "      <td>https://g1.globo.com/jornal-nacional/noticia/2...</td>\n",
       "      <td>Thu, 24 Sep 2020 00:32:28 -0000</td>\n",
       "      <td>G1</td>\n",
       "    </tr>\n",
       "    <tr>\n",
       "      <th>2</th>\n",
       "      <td>3652</td>\n",
       "      <td>Governo edita medidas provisórias para aderir ...</td>\n",
       "      <td>https://g1.globo.com/bemestar/coronavirus/noti...</td>\n",
       "      <td>Thu, 24 Sep 2020 23:20:22 -0000</td>\n",
       "      <td>G1</td>\n",
       "    </tr>\n",
       "    <tr>\n",
       "      <th>3</th>\n",
       "      <td>3653</td>\n",
       "      <td>UFMG aumenta prazo e idade de voluntários para...</td>\n",
       "      <td>https://g1.globo.com/mg/minas-gerais/noticia/2...</td>\n",
       "      <td>Mon, 28 Sep 2020 09:35:55 -0000</td>\n",
       "      <td>G1</td>\n",
       "    </tr>\n",
       "    <tr>\n",
       "      <th>4</th>\n",
       "      <td>3654</td>\n",
       "      <td>Coronavírus: 1 mil voluntários de Curitiba vão...</td>\n",
       "      <td>https://g1.globo.com/pr/parana/noticia/2020/09...</td>\n",
       "      <td>Wed, 30 Sep 2020 00:34:00 -0000</td>\n",
       "      <td>G1</td>\n",
       "    </tr>\n",
       "  </tbody>\n",
       "</table>\n",
       "</div>"
      ],
      "text/plain": [
       "     id                                              title  \\\n",
       "0  3650  Mais uma vacina contra a Covid-19 será testada...   \n",
       "1  3651  Chineses anunciam resultados promissores de va...   \n",
       "2  3652  Governo edita medidas provisórias para aderir ...   \n",
       "3  3653  UFMG aumenta prazo e idade de voluntários para...   \n",
       "4  3654  Coronavírus: 1 mil voluntários de Curitiba vão...   \n",
       "\n",
       "                                                link  \\\n",
       "0  https://g1.globo.com/ba/bahia/noticia/2020/09/...   \n",
       "1  https://g1.globo.com/jornal-nacional/noticia/2...   \n",
       "2  https://g1.globo.com/bemestar/coronavirus/noti...   \n",
       "3  https://g1.globo.com/mg/minas-gerais/noticia/2...   \n",
       "4  https://g1.globo.com/pr/parana/noticia/2020/09...   \n",
       "\n",
       "                        publishied site  \n",
       "0  Wed, 23 Sep 2020 00:34:04 -0000   G1  \n",
       "1  Thu, 24 Sep 2020 00:32:28 -0000   G1  \n",
       "2  Thu, 24 Sep 2020 23:20:22 -0000   G1  \n",
       "3  Mon, 28 Sep 2020 09:35:55 -0000   G1  \n",
       "4  Wed, 30 Sep 2020 00:34:00 -0000   G1  "
      ]
     },
     "metadata": {},
     "execution_count": 48
    }
   ],
   "metadata": {}
  },
  {
   "cell_type": "code",
   "execution_count": 50,
   "source": [
    "df.shape"
   ],
   "outputs": [
    {
     "output_type": "execute_result",
     "data": {
      "text/plain": [
       "(2203, 5)"
      ]
     },
     "metadata": {},
     "execution_count": 50
    }
   ],
   "metadata": {}
  },
  {
   "cell_type": "markdown",
   "source": [
    "## Distribuição das noticias coletadas"
   ],
   "metadata": {}
  },
  {
   "cell_type": "code",
   "execution_count": 52,
   "source": [
    "dist = pd.DataFrame(df['site'].value_counts()).reset_index(False)\r\n",
    "plt.bar(x=dist['index'], height=dist['site'])\r\n",
    "plt.title('Quantidade de comentarios em noticias por site')\r\n",
    " "
   ],
   "outputs": [
    {
     "output_type": "execute_result",
     "data": {
      "text/plain": [
       "Text(0.5, 1.0, 'Quantidade de comentarios em noticias por site')"
      ]
     },
     "metadata": {},
     "execution_count": 52
    },
    {
     "output_type": "display_data",
     "data": {
      "image/png": "[encoded data removed]",
      "text/plain": [
       "<Figure size 432x288 with 1 Axes>"
      ]
     },
     "metadata": {
      "needs_background": "light"
     }
    }
   ],
   "metadata": {}
  },
  {
   "cell_type": "markdown",
   "source": [
    "Apesar do Folha de SP ter mais comentarios coletados o site do G1 e quem lidera com maior número de notícias coletadas"
   ],
   "metadata": {}
  },
  {
   "cell_type": "markdown",
   "source": [
    "## Qual intervalo de tempo em que esses dados foram coletados"
   ],
   "metadata": {}
  },
  {
   "cell_type": "code",
   "execution_count": 61,
   "source": [
    "df['publishied'].sort_values "
   ],
   "outputs": [
    {
     "output_type": "execute_result",
     "data": {
      "text/plain": [
       "<bound method Series.sort_values of 0       Wed, 23 Sep 2020 00:34:04 -0000\n",
       "1       Thu, 24 Sep 2020 00:32:28 -0000\n",
       "2       Thu, 24 Sep 2020 23:20:22 -0000\n",
       "3       Mon, 28 Sep 2020 09:35:55 -0000\n",
       "4       Wed, 30 Sep 2020 00:34:00 -0000\n",
       "                     ...               \n",
       "2198    Tue, 18 May 2021 19:51:39 -0000\n",
       "2199    Tue, 18 May 2021 19:47:36 -0000\n",
       "2200    Tue, 18 May 2021 19:46:18 -0000\n",
       "2201    Tue, 18 May 2021 19:45:29 -0000\n",
       "2202    Tue, 18 May 2021 19:35:51 -0000\n",
       "Name: publishied, Length: 2203, dtype: object>"
      ]
     },
     "metadata": {},
     "execution_count": 61
    }
   ],
   "metadata": {}
  },
  {
   "cell_type": "markdown",
   "source": [
    "dados coletados entre 23 de setembro de 2020 e 18 de maio de 2021"
   ],
   "metadata": {}
  }
 ],
 "metadata": {
  "orig_nbformat": 4,
  "language_info": {
   "name": "python",
   "version": "3.9.0",
   "mimetype": "text/x-python",
   "codemirror_mode": {
    "name": "ipython",
    "version": 3
   },
   "pygments_lexer": "ipython3",
   "nbconvert_exporter": "python",
   "file_extension": ".py"
  },
  "kernelspec": {
   "name": "python3",
   "display_name": "Python 3.9.0 64-bit"
  },
  "interpreter": {
   "hash": "86b8d54e23acd62ae0afd56a257cc43973efd002b6e1dafe09c32756ffa9fd96"
  }
 },
 "nbformat": 4,
 "nbformat_minor": 2
}