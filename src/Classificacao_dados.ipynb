{
 "cells": [
  {
   "cell_type": "code",
   "execution_count": 3,
   "metadata": {},
   "outputs": [],
   "source": [
    "import pickle\n",
    "\n",
    "with open('../data/TweetsMG_LogisticRegression_AS.pkl', 'rb') as f:\n",
    "    model = pickle.load(f)\n",
    "\n",
    "with open('../data/TweetsMG_text_vectorizer.pkl', 'rb') as f:\n",
    "    vectorizer = pickle.load(f)"
   ]
  },
  {
   "cell_type": "code",
   "execution_count": 4,
   "metadata": {},
   "outputs": [
    {
     "name": "stderr",
     "output_type": "stream",
     "text": [
      "[nltk_data] Downloading package stopwords to\n",
      "[nltk_data]     C:\\Users\\renat\\AppData\\Roaming\\nltk_data...\n",
      "[nltk_data]   Unzipping corpora\\stopwords.zip.\n"
     ]
    }
   ],
   "source": [
    "import pandas as pd\n",
    "from data_preprocessing import clean_text"
   ]
  },
  {
   "cell_type": "code",
   "execution_count": 5,
   "metadata": {},
   "outputs": [
    {
     "data": {
      "text/html": [
       "<div>\n",
       "<style scoped>\n",
       "    .dataframe tbody tr th:only-of-type {\n",
       "        vertical-align: middle;\n",
       "    }\n",
       "\n",
       "    .dataframe tbody tr th {\n",
       "        vertical-align: top;\n",
       "    }\n",
       "\n",
       "    .dataframe thead th {\n",
       "        text-align: right;\n",
       "    }\n",
       "</style>\n",
       "<table border=\"1\" class=\"dataframe\">\n",
       "  <thead>\n",
       "    <tr style=\"text-align: right;\">\n",
       "      <th></th>\n",
       "      <th>pk_cod</th>\n",
       "      <th>nome</th>\n",
       "      <th>tweet</th>\n",
       "      <th>data</th>\n",
       "      <th>id_tweet</th>\n",
       "    </tr>\n",
       "  </thead>\n",
       "  <tbody>\n",
       "    <tr>\n",
       "      <th>0</th>\n",
       "      <td>9</td>\n",
       "      <td>g1</td>\n",
       "      <td>União Europeia autoriza uso da vacina da Pfize...</td>\n",
       "      <td>2020-12-21 18:00:00</td>\n",
       "      <td>1341080996972781571</td>\n",
       "    </tr>\n",
       "    <tr>\n",
       "      <th>1</th>\n",
       "      <td>13</td>\n",
       "      <td>g1</td>\n",
       "      <td>Vaticano diz que uso de vacinas contra a Covid...</td>\n",
       "      <td>2020-12-21 17:00:00</td>\n",
       "      <td>1341065899533619200</td>\n",
       "    </tr>\n",
       "    <tr>\n",
       "      <th>2</th>\n",
       "      <td>15</td>\n",
       "      <td>g1</td>\n",
       "      <td>Agência reguladora da Europa autoriza uso da v...</td>\n",
       "      <td>2020-12-21 16:30:00</td>\n",
       "      <td>1341058349396275202</td>\n",
       "    </tr>\n",
       "    <tr>\n",
       "      <th>3</th>\n",
       "      <td>50</td>\n",
       "      <td>VEJA</td>\n",
       "      <td>São Paulo terá 10,8 milhões de doses da Corona...</td>\n",
       "      <td>2020-12-21 16:45:59</td>\n",
       "      <td>1341062370198777862</td>\n",
       "    </tr>\n",
       "    <tr>\n",
       "      <th>4</th>\n",
       "      <td>54</td>\n",
       "      <td>VEJA</td>\n",
       "      <td>Aprovações emergenciais para vacinas da Covid-...</td>\n",
       "      <td>2020-12-21 15:35:00</td>\n",
       "      <td>1341044505953226752</td>\n",
       "    </tr>\n",
       "  </tbody>\n",
       "</table>\n",
       "</div>"
      ],
      "text/plain": [
       "   pk_cod  nome                                              tweet  \\\n",
       "0       9    g1  União Europeia autoriza uso da vacina da Pfize...   \n",
       "1      13    g1  Vaticano diz que uso de vacinas contra a Covid...   \n",
       "2      15    g1  Agência reguladora da Europa autoriza uso da v...   \n",
       "3      50  VEJA  São Paulo terá 10,8 milhões de doses da Corona...   \n",
       "4      54  VEJA  Aprovações emergenciais para vacinas da Covid-...   \n",
       "\n",
       "                  data             id_tweet  \n",
       "0  2020-12-21 18:00:00  1341080996972781571  \n",
       "1  2020-12-21 17:00:00  1341065899533619200  \n",
       "2  2020-12-21 16:30:00  1341058349396275202  \n",
       "3  2020-12-21 16:45:59  1341062370198777862  \n",
       "4  2020-12-21 15:35:00  1341044505953226752  "
      ]
     },
     "execution_count": 5,
     "metadata": {},
     "output_type": "execute_result"
    }
   ],
   "source": [
    "df =  pd.read_csv('../data/vacina_paginas_noticia.csv')\n",
    "df.head()"
   ]
  },
  {
   "cell_type": "code",
   "execution_count": 9,
   "metadata": {},
   "outputs": [],
   "source": [
    "# preprocessamento\n",
    "df['preprocessed_text'] = df['tweet'].apply(lambda x: clean_text(x))\n",
    "\n",
    "# vetorização do texto\n",
    "df_vectorize = vectorizer.transform(df['preprocessed_text'].values.tolist())"
   ]
  },
  {
   "cell_type": "code",
   "execution_count": 27,
   "metadata": {},
   "outputs": [],
   "source": [
    "df['resultado'] = model.predict(df_vectorize)\n",
    "\n",
    "# teste salvar o vectorize e o modelo do outro notebook e usar aqui"
   ]
  },
  {
   "cell_type": "code",
   "execution_count": 33,
   "metadata": {},
   "outputs": [],
   "source": [
    "dic_classificacao = {\n",
    "    0 : 'Neutro',\n",
    "    2 : 'Negativo',\n",
    "    1: 'Positivo',\n",
    "}\n",
    "df['resultado'] = df['resultado'].replace(dic_classificacao)"
   ]
  },
  {
   "cell_type": "code",
   "execution_count": 40,
   "metadata": {},
   "outputs": [
    {
     "data": {
      "text/plain": [
       "22      'Alegria de fazer parte desse momento', diz mé...\n",
       "159     RT @sbtnews: Bolsonaro cobrou ainda que labora...\n",
       "193     Governo do RJ diz ter estoque de 8 milhões de ...\n",
       "242     'É uma imoralidade que pessoas com dinheiro te...\n",
       "296     Brasil chega a 200 mil mortes por Covid-19 sem...\n",
       "405     Anvisa autoriza importação de vacina de Oxford...\n",
       "407     RT @sbtnews: No domingo, a diretoria da Anvisa...\n",
       "474     RT @sbtnews: A pesquisa britânica revela ainda...\n",
       "475     A pesquisa britânica revela ainda que a imunid...\n",
       "499     RT @sbtnews: O presidente se reuniu com o emba...\n",
       "514     O presidente se reuniu com o embaixador indian...\n",
       "858     RT @ze_marques: Em agosto, o governador de MG,...\n",
       "972     RT @patricia_vasc: Nevasca suspende aplicação ...\n",
       "973     Mais de 2,2 milhões de pessoas já receberam do...\n",
       "978     RT @sbtnews: URGENTE - Chega ao Brasil o avião...\n",
       "1000    Pedido de registro definitivo da CoronaVac dev...\n",
       "1007    RT @JoanaCunhaO: É uma tendência?\\n\\nPainel S....\n",
       "1116    Como até o momento não houve a formalização do...\n",
       "1129    RT @sbtnews: Pesquisa foi feita com 35 pessoas...\n",
       "1215    RT @sbtnews: VACINAS DA PFIZER - Brasil terá 5...\n",
       "Name: tweet, dtype: object"
      ]
     },
     "execution_count": 40,
     "metadata": {},
     "output_type": "execute_result"
    }
   ],
   "source": [
    "df[['resultado', 'tweet']].query(\"resultado == 'Negativo'\")['tweet']"
   ]
  },
  {
   "cell_type": "code",
   "execution_count": 52,
   "metadata": {},
   "outputs": [],
   "source": [
    "import matplotlib.pyplot as plt"
   ]
  },
  {
   "cell_type": "markdown",
   "metadata": {},
   "source": [
    "## Resultado usando Tweets_MG como treino"
   ]
  },
  {
   "cell_type": "code",
   "execution_count": 43,
   "metadata": {},
   "outputs": [
    {
     "data": {
      "text/plain": [
       "<pandas.plotting._core.PlotAccessor object at 0x0000024B9E690AC0>"
      ]
     },
     "execution_count": 43,
     "metadata": {},
     "output_type": "execute_result"
    }
   ],
   "source": [
    "x = df['resultado']\n",
    "y = df['resultado'].values"
   ]
  },
  {
   "cell_type": "code",
   "execution_count": 56,
   "metadata": {},
   "outputs": [
    {
     "data": {
      "text/html": [
       "<div>\n",
       "<style scoped>\n",
       "    .dataframe tbody tr th:only-of-type {\n",
       "        vertical-align: middle;\n",
       "    }\n",
       "\n",
       "    .dataframe tbody tr th {\n",
       "        vertical-align: top;\n",
       "    }\n",
       "\n",
       "    .dataframe thead th {\n",
       "        text-align: right;\n",
       "    }\n",
       "</style>\n",
       "<table border=\"1\" class=\"dataframe\">\n",
       "  <thead>\n",
       "    <tr style=\"text-align: right;\">\n",
       "      <th></th>\n",
       "      <th>index</th>\n",
       "      <th>resultado</th>\n",
       "    </tr>\n",
       "  </thead>\n",
       "  <tbody>\n",
       "    <tr>\n",
       "      <th>0</th>\n",
       "      <td>Neutro</td>\n",
       "      <td>794</td>\n",
       "    </tr>\n",
       "    <tr>\n",
       "      <th>1</th>\n",
       "      <td>Positivo</td>\n",
       "      <td>440</td>\n",
       "    </tr>\n",
       "    <tr>\n",
       "      <th>2</th>\n",
       "      <td>Negativo</td>\n",
       "      <td>20</td>\n",
       "    </tr>\n",
       "  </tbody>\n",
       "</table>\n",
       "</div>"
      ],
      "text/plain": [
       "      index  resultado\n",
       "0    Neutro        794\n",
       "1  Positivo        440\n",
       "2  Negativo         20"
      ]
     },
     "execution_count": 56,
     "metadata": {},
     "output_type": "execute_result"
    }
   ],
   "source": [
    "\n"
   ]
  },
  {
   "cell_type": "code",
   "execution_count": 57,
   "metadata": {},
   "outputs": [
    {
     "data": {
      "text/plain": [
       "<BarContainer object of 3 artists>"
      ]
     },
     "execution_count": 57,
     "metadata": {},
     "output_type": "execute_result"
    },
    {
     "data": {
      "image/png": "[encoded data removed]",
      "text/plain": [
       "<Figure size 432x288 with 1 Axes>"
      ]
     },
     "metadata": {
      "needs_background": "light"
     },
     "output_type": "display_data"
    }
   ],
   "source": [
    "df_resultado = pd.DataFrame(df['resultado'].value_counts()).reset_index()\n",
    "plt.bar(df_resultado['index'], df_resultado['resultado'])"
   ]
  }
 ],
 "metadata": {
  "interpreter": {
   "hash": "86b8d54e23acd62ae0afd56a257cc43973efd002b6e1dafe09c32756ffa9fd96"
  },
  "kernelspec": {
   "display_name": "Python 3.9.0 64-bit",
   "name": "python3"
  },
  "language_info": {
   "codemirror_mode": {
    "name": "ipython",
    "version": 3
   },
   "file_extension": ".py",
   "mimetype": "text/x-python",
   "name": "python",
   "nbconvert_exporter": "python",
   "pygments_lexer": "ipython3",
   "version": "3.9.0"
  },
  "orig_nbformat": 4
 },
 "nbformat": 4,
 "nbformat_minor": 2
}
