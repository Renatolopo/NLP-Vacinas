{
 "cells": [
  {
   "cell_type": "code",
   "execution_count": 3,
   "metadata": {},
   "outputs": [],
   "source": [
    "import pickle\n",
    "\n",
    "with open('../data/TweetsMG_LogisticRegression_AS.pkl', 'rb') as f:\n",
    "    model = pickle.load(f)\n",
    "\n",
    "with open('../data/TweetsMG_text_vectorizer.pkl', 'rb') as f:\n",
    "    vectorizer = pickle.load(f)"
   ]
  },
  {
   "cell_type": "code",
   "execution_count": 4,
   "metadata": {},
   "outputs": [
    {
     "name": "stderr",
     "output_type": "stream",
     "text": [
      "[nltk_data] Downloading package stopwords to\n",
      "[nltk_data]     C:\\Users\\renat\\AppData\\Roaming\\nltk_data...\n",
      "[nltk_data]   Unzipping corpora\\stopwords.zip.\n"
     ]
    }
   ],
   "source": [
    "import pandas as pd\n",
    "from data_preprocessing import clean_text"
   ]
  },
  {
   "cell_type": "code",
   "execution_count": 13,
   "metadata": {},
   "outputs": [
    {
     "data": {
      "text/html": [
       "<div>\n",
       "<style scoped>\n",
       "    .dataframe tbody tr th:only-of-type {\n",
       "        vertical-align: middle;\n",
       "    }\n",
       "\n",
       "    .dataframe tbody tr th {\n",
       "        vertical-align: top;\n",
       "    }\n",
       "\n",
       "    .dataframe thead th {\n",
       "        text-align: right;\n",
       "    }\n",
       "</style>\n",
       "<table border=\"1\" class=\"dataframe\">\n",
       "  <thead>\n",
       "    <tr style=\"text-align: right;\">\n",
       "      <th></th>\n",
       "      <th>fk_id</th>\n",
       "      <th>comentario</th>\n",
       "      <th>site</th>\n",
       "    </tr>\n",
       "  </thead>\n",
       "  <tbody>\n",
       "    <tr>\n",
       "      <th>0</th>\n",
       "      <td>3652</td>\n",
       "      <td>O\\nex-ministro da Saúde, Luiz Henrique Mandett...</td>\n",
       "      <td>G1</td>\n",
       "    </tr>\n",
       "    <tr>\n",
       "      <th>1</th>\n",
       "      <td>3652</td>\n",
       "      <td>Ainda vai demorar demais pra chegar a vacina.....</td>\n",
       "      <td>G1</td>\n",
       "    </tr>\n",
       "    <tr>\n",
       "      <th>2</th>\n",
       "      <td>3652</td>\n",
       "      <td>E a cloroquina, os milhões investido, foram pr...</td>\n",
       "      <td>G1</td>\n",
       "    </tr>\n",
       "    <tr>\n",
       "      <th>3</th>\n",
       "      <td>3652</td>\n",
       "      <td>CARISSIMO SR THIAGO LUZ , TENHO VARIOS AMIGOS ...</td>\n",
       "      <td>G1</td>\n",
       "    </tr>\n",
       "    <tr>\n",
       "      <th>4</th>\n",
       "      <td>3652</td>\n",
       "      <td>Ué.... ea cloroquina milagrosa defendida pelo ...</td>\n",
       "      <td>G1</td>\n",
       "    </tr>\n",
       "  </tbody>\n",
       "</table>\n",
       "</div>"
      ],
      "text/plain": [
       "   fk_id                                         comentario site\n",
       "0   3652  O\\nex-ministro da Saúde, Luiz Henrique Mandett...   G1\n",
       "1   3652  Ainda vai demorar demais pra chegar a vacina.....   G1\n",
       "2   3652  E a cloroquina, os milhões investido, foram pr...   G1\n",
       "3   3652  CARISSIMO SR THIAGO LUZ , TENHO VARIOS AMIGOS ...   G1\n",
       "4   3652  Ué.... ea cloroquina milagrosa defendida pelo ...   G1"
      ]
     },
     "execution_count": 13,
     "metadata": {},
     "output_type": "execute_result"
    }
   ],
   "source": [
    "file = 'comentario_vacina'\n",
    "df =  pd.read_csv(f'../data/{file}.csv')\n",
    "df.head()"
   ]
  },
  {
   "cell_type": "code",
   "execution_count": 15,
   "metadata": {},
   "outputs": [],
   "source": [
    "# preprocessamento\n",
    "text = 'comentario'\n",
    "df['preprocessed_text'] = df[text].apply(lambda x: clean_text(x))\n",
    "\n",
    "# vetorização do texto\n",
    "df_vectorize = vectorizer.transform(df['preprocessed_text'].values.tolist())"
   ]
  },
  {
   "cell_type": "code",
   "execution_count": 16,
   "metadata": {},
   "outputs": [],
   "source": [
    "df['resultado'] = model.predict(df_vectorize)\n",
    "\n",
    "# teste salvar o vectorize e o modelo do outro notebook e usar aqui"
   ]
  },
  {
   "cell_type": "code",
   "execution_count": 17,
   "metadata": {},
   "outputs": [],
   "source": [
    "dic_classificacao = {\n",
    "    0 : 'Neutro',\n",
    "    2 : 'Negativo',\n",
    "    1: 'Positivo',\n",
    "}\n",
    "df['resultado'] = df['resultado'].replace(dic_classificacao)"
   ]
  },
  {
   "cell_type": "code",
   "execution_count": 40,
   "metadata": {},
   "outputs": [
    {
     "data": {
      "text/plain": [
       "22      'Alegria de fazer parte desse momento', diz mé...\n",
       "159     RT @sbtnews: Bolsonaro cobrou ainda que labora...\n",
       "193     Governo do RJ diz ter estoque de 8 milhões de ...\n",
       "242     'É uma imoralidade que pessoas com dinheiro te...\n",
       "296     Brasil chega a 200 mil mortes por Covid-19 sem...\n",
       "405     Anvisa autoriza importação de vacina de Oxford...\n",
       "407     RT @sbtnews: No domingo, a diretoria da Anvisa...\n",
       "474     RT @sbtnews: A pesquisa britânica revela ainda...\n",
       "475     A pesquisa britânica revela ainda que a imunid...\n",
       "499     RT @sbtnews: O presidente se reuniu com o emba...\n",
       "514     O presidente se reuniu com o embaixador indian...\n",
       "858     RT @ze_marques: Em agosto, o governador de MG,...\n",
       "972     RT @patricia_vasc: Nevasca suspende aplicação ...\n",
       "973     Mais de 2,2 milhões de pessoas já receberam do...\n",
       "978     RT @sbtnews: URGENTE - Chega ao Brasil o avião...\n",
       "1000    Pedido de registro definitivo da CoronaVac dev...\n",
       "1007    RT @JoanaCunhaO: É uma tendência?\\n\\nPainel S....\n",
       "1116    Como até o momento não houve a formalização do...\n",
       "1129    RT @sbtnews: Pesquisa foi feita com 35 pessoas...\n",
       "1215    RT @sbtnews: VACINAS DA PFIZER - Brasil terá 5...\n",
       "Name: tweet, dtype: object"
      ]
     },
     "execution_count": 40,
     "metadata": {},
     "output_type": "execute_result"
    }
   ],
   "source": [
    "df[['resultado', 'tweet']].query(\"resultado == 'Negativo'\")['tweet']"
   ]
  },
  {
   "cell_type": "code",
   "execution_count": 47,
   "metadata": {},
   "outputs": [],
   "source": [
    "import matplotlib.pyplot as plt"
   ]
  },
  {
   "cell_type": "markdown",
   "metadata": {},
   "source": [
    "## Resultado usando Tweets_MG como treino"
   ]
  },
  {
   "cell_type": "code",
   "execution_count": 41,
   "metadata": {},
   "outputs": [],
   "source": [
    "df = pd.read_csv('../data/previsoes/comentario_vacina_predict.csv')"
   ]
  },
  {
   "cell_type": "code",
   "execution_count": 44,
   "metadata": {},
   "outputs": [],
   "source": [
    "x = df['sentimento']\n",
    "y = df['sentimento'].values"
   ]
  },
  {
   "cell_type": "code",
   "execution_count": 56,
   "metadata": {},
   "outputs": [
    {
     "data": {
      "text/html": [
       "<div>\n",
       "<style scoped>\n",
       "    .dataframe tbody tr th:only-of-type {\n",
       "        vertical-align: middle;\n",
       "    }\n",
       "\n",
       "    .dataframe tbody tr th {\n",
       "        vertical-align: top;\n",
       "    }\n",
       "\n",
       "    .dataframe thead th {\n",
       "        text-align: right;\n",
       "    }\n",
       "</style>\n",
       "<table border=\"1\" class=\"dataframe\">\n",
       "  <thead>\n",
       "    <tr style=\"text-align: right;\">\n",
       "      <th></th>\n",
       "      <th>index</th>\n",
       "      <th>resultado</th>\n",
       "    </tr>\n",
       "  </thead>\n",
       "  <tbody>\n",
       "    <tr>\n",
       "      <th>0</th>\n",
       "      <td>Neutro</td>\n",
       "      <td>794</td>\n",
       "    </tr>\n",
       "    <tr>\n",
       "      <th>1</th>\n",
       "      <td>Positivo</td>\n",
       "      <td>440</td>\n",
       "    </tr>\n",
       "    <tr>\n",
       "      <th>2</th>\n",
       "      <td>Negativo</td>\n",
       "      <td>20</td>\n",
       "    </tr>\n",
       "  </tbody>\n",
       "</table>\n",
       "</div>"
      ],
      "text/plain": [
       "      index  resultado\n",
       "0    Neutro        794\n",
       "1  Positivo        440\n",
       "2  Negativo         20"
      ]
     },
     "execution_count": 56,
     "metadata": {},
     "output_type": "execute_result"
    }
   ],
   "source": [
    "\n"
   ]
  },
  {
   "cell_type": "code",
   "execution_count": 48,
   "metadata": {},
   "outputs": [
    {
     "data": {
      "text/plain": [
       "<BarContainer object of 3 artists>"
      ]
     },
     "execution_count": 48,
     "metadata": {},
     "output_type": "execute_result"
    },
    {
     "data": {
      "image/png": "[encoded data removed]",
      "text/plain": [
       "<Figure size 432x288 with 1 Axes>"
      ]
     },
     "metadata": {
      "needs_background": "light"
     },
     "output_type": "display_data"
    }
   ],
   "source": [
    "df_resultado = pd.DataFrame(df['sentimento'].value_counts()).reset_index()\n",
    "plt.bar(df_resultado['index'], df_resultado['sentimento'])"
   ]
  }
 ],
 "metadata": {
  "interpreter": {
   "hash": "86b8d54e23acd62ae0afd56a257cc43973efd002b6e1dafe09c32756ffa9fd96"
  },
  "kernelspec": {
   "display_name": "Python 3.9.0 64-bit",
   "name": "python3"
  },
  "language_info": {
   "codemirror_mode": {
    "name": "ipython",
    "version": 3
   },
   "file_extension": ".py",
   "mimetype": "text/x-python",
   "name": "python",
   "nbconvert_exporter": "python",
   "pygments_lexer": "ipython3",
   "version": "3.9.0"
  },
  "orig_nbformat": 4
 },
 "nbformat": 4,
 "nbformat_minor": 2
}
