{
 "cells": [
  {
   "cell_type": "code",
   "execution_count": 2,
   "metadata": {},
   "outputs": [],
   "source": [
    "import pandas as pd"
   ]
  },
  {
   "cell_type": "code",
   "execution_count": 1,
   "metadata": {},
   "outputs": [
    {
     "data": {
      "text/html": [
       "<div>\n",
       "<style scoped>\n",
       "    .dataframe tbody tr th:only-of-type {\n",
       "        vertical-align: middle;\n",
       "    }\n",
       "\n",
       "    .dataframe tbody tr th {\n",
       "        vertical-align: top;\n",
       "    }\n",
       "\n",
       "    .dataframe thead th {\n",
       "        text-align: right;\n",
       "    }\n",
       "</style>\n",
       "<table border=\"1\" class=\"dataframe\">\n",
       "  <thead>\n",
       "    <tr style=\"text-align: right;\">\n",
       "      <th></th>\n",
       "      <th>pk_cod</th>\n",
       "      <th>nome</th>\n",
       "      <th>text</th>\n",
       "      <th>data</th>\n",
       "      <th>id_tweet</th>\n",
       "    </tr>\n",
       "  </thead>\n",
       "  <tbody>\n",
       "    <tr>\n",
       "      <th>0</th>\n",
       "      <td>9</td>\n",
       "      <td>g1</td>\n",
       "      <td>União Europeia autoriza uso da vacina da Pfize...</td>\n",
       "      <td>2020-12-21 18:00:00</td>\n",
       "      <td>1341080996972781571</td>\n",
       "    </tr>\n",
       "    <tr>\n",
       "      <th>1</th>\n",
       "      <td>13</td>\n",
       "      <td>g1</td>\n",
       "      <td>Vaticano diz que uso de vacinas contra a Covid...</td>\n",
       "      <td>2020-12-21 17:00:00</td>\n",
       "      <td>1341065899533619200</td>\n",
       "    </tr>\n",
       "    <tr>\n",
       "      <th>2</th>\n",
       "      <td>15</td>\n",
       "      <td>g1</td>\n",
       "      <td>Agência reguladora da Europa autoriza uso da v...</td>\n",
       "      <td>2020-12-21 16:30:00</td>\n",
       "      <td>1341058349396275202</td>\n",
       "    </tr>\n",
       "    <tr>\n",
       "      <th>3</th>\n",
       "      <td>50</td>\n",
       "      <td>VEJA</td>\n",
       "      <td>São Paulo terá 10,8 milhões de doses da Corona...</td>\n",
       "      <td>2020-12-21 16:45:59</td>\n",
       "      <td>1341062370198777862</td>\n",
       "    </tr>\n",
       "    <tr>\n",
       "      <th>4</th>\n",
       "      <td>54</td>\n",
       "      <td>VEJA</td>\n",
       "      <td>Aprovações emergenciais para vacinas da Covid-...</td>\n",
       "      <td>2020-12-21 15:35:00</td>\n",
       "      <td>1341044505953226752</td>\n",
       "    </tr>\n",
       "  </tbody>\n",
       "</table>\n",
       "</div>"
      ],
      "text/plain": [
       "   pk_cod  nome                                               text  \\\n",
       "0       9    g1  União Europeia autoriza uso da vacina da Pfize...   \n",
       "1      13    g1  Vaticano diz que uso de vacinas contra a Covid...   \n",
       "2      15    g1  Agência reguladora da Europa autoriza uso da v...   \n",
       "3      50  VEJA  São Paulo terá 10,8 milhões de doses da Corona...   \n",
       "4      54  VEJA  Aprovações emergenciais para vacinas da Covid-...   \n",
       "\n",
       "                  data             id_tweet  \n",
       "0  2020-12-21 18:00:00  1341080996972781571  \n",
       "1  2020-12-21 17:00:00  1341065899533619200  \n",
       "2  2020-12-21 16:30:00  1341058349396275202  \n",
       "3  2020-12-21 16:45:59  1341062370198777862  \n",
       "4  2020-12-21 15:35:00  1341044505953226752  "
      ]
     },
     "execution_count": 1,
     "metadata": {},
     "output_type": "execute_result"
    }
   ],
   "source": [
    "\n",
    "\n",
    "df = pd.read_csv('../data/dfs/vacina_paginas_noticia.csv')\n",
    "df.head()"
   ]
  },
  {
   "cell_type": "code",
   "execution_count": 42,
   "metadata": {},
   "outputs": [],
   "source": [
    "df.nome.value_counts()"
   ]
  },
  {
   "cell_type": "code",
   "execution_count": null,
   "metadata": {},
   "outputs": [],
   "source": [
    "df = df.query(\"nome == 'g1' or nome == 'folha'\")"
   ]
  },
  {
   "cell_type": "code",
   "execution_count": 5,
   "metadata": {},
   "outputs": [],
   "source": [
    "df.to_csv('../data/dfs/vacina_paginas_noticia.csv')"
   ]
  },
  {
   "cell_type": "code",
   "execution_count": 6,
   "metadata": {},
   "outputs": [],
   "source": [
    "user_rt = pd.read_csv('../data/dfs/vacina_user_rt.csv')"
   ]
  },
  {
   "cell_type": "markdown",
   "metadata": {},
   "source": [
    "filtra somente usuarios que deram rt em publicações do g1 ou folha"
   ]
  },
  {
   "cell_type": "code",
   "execution_count": 50,
   "metadata": {},
   "outputs": [],
   "source": [
    "user_rt = user_rt[user_rt.rt_em_fk.isin(df.pk_cod)] "
   ]
  },
  {
   "cell_type": "code",
   "execution_count": 54,
   "metadata": {},
   "outputs": [],
   "source": [
    "user_rt.to_csv('../data/dfs/vacina_user_rt.csv')"
   ]
  },
  {
   "cell_type": "code",
   "execution_count": 5,
   "metadata": {},
   "outputs": [
    {
     "data": {
      "text/html": [
       "<div>\n",
       "<style scoped>\n",
       "    .dataframe tbody tr th:only-of-type {\n",
       "        vertical-align: middle;\n",
       "    }\n",
       "\n",
       "    .dataframe tbody tr th {\n",
       "        vertical-align: top;\n",
       "    }\n",
       "\n",
       "    .dataframe thead th {\n",
       "        text-align: right;\n",
       "    }\n",
       "</style>\n",
       "<table border=\"1\" class=\"dataframe\">\n",
       "  <thead>\n",
       "    <tr style=\"text-align: right;\">\n",
       "      <th></th>\n",
       "      <th>Unnamed: 0</th>\n",
       "      <th>pk_cod</th>\n",
       "      <th>nome</th>\n",
       "      <th>rt_em_fk</th>\n",
       "    </tr>\n",
       "  </thead>\n",
       "  <tbody>\n",
       "    <tr>\n",
       "      <th>0</th>\n",
       "      <td>0</td>\n",
       "      <td>1</td>\n",
       "      <td>DiasFabio_</td>\n",
       "      <td>9</td>\n",
       "    </tr>\n",
       "    <tr>\n",
       "      <th>1</th>\n",
       "      <td>1</td>\n",
       "      <td>2</td>\n",
       "      <td>TaBomTigre</td>\n",
       "      <td>9</td>\n",
       "    </tr>\n",
       "    <tr>\n",
       "      <th>2</th>\n",
       "      <td>2</td>\n",
       "      <td>3</td>\n",
       "      <td>pedromoraess</td>\n",
       "      <td>9</td>\n",
       "    </tr>\n",
       "    <tr>\n",
       "      <th>3</th>\n",
       "      <td>3</td>\n",
       "      <td>4</td>\n",
       "      <td>ttithearetomada</td>\n",
       "      <td>9</td>\n",
       "    </tr>\n",
       "    <tr>\n",
       "      <th>4</th>\n",
       "      <td>4</td>\n",
       "      <td>5</td>\n",
       "      <td>euranieloficial</td>\n",
       "      <td>9</td>\n",
       "    </tr>\n",
       "  </tbody>\n",
       "</table>\n",
       "</div>"
      ],
      "text/plain": [
       "   Unnamed: 0  pk_cod             nome  rt_em_fk\n",
       "0           0       1       DiasFabio_         9\n",
       "1           1       2       TaBomTigre         9\n",
       "2           2       3     pedromoraess         9\n",
       "3           3       4  ttithearetomada         9\n",
       "4           4       5  euranieloficial         9"
      ]
     },
     "execution_count": 5,
     "metadata": {},
     "output_type": "execute_result"
    }
   ],
   "source": [
    "user_rt = pd.read_csv('../data/dfs/vacina_user_rt.csv')\n",
    "user_rt.head()"
   ]
  },
  {
   "cell_type": "code",
   "execution_count": 11,
   "metadata": {},
   "outputs": [
    {
     "data": {
      "text/plain": [
       "0         RT @SquawkaNews: Atletico Madrid XI: Oblak; Tr...\n",
       "1         RT @SquawkaNews: OFFICIAL: UEFA have confirmed...\n",
       "2         RT @SquawkaNews: Man City XI: Ederson; Walker,...\n",
       "3         RT @UOLEsporte: Neto de Mário Filho detona nom...\n",
       "4         RT @exame: Alerj troca nome de Maracanã para P...\n",
       "                                ...                        \n",
       "578825    RT @Dudu: Tiago entrou ao vivo. Tá falando sob...\n",
       "578826    RT @eutrickfenix: Osh viih tube e Thais julgan...\n",
       "578827    RT @mamicita: caio: “esse carro vai pra anápol...\n",
       "578828    RT @monna08513399: Demorou pra ir embora só pr...\n",
       "578829    RT @comentalic: meu deus que benção minha tl t...\n",
       "Name: text, Length: 578830, dtype: object"
      ]
     },
     "execution_count": 11,
     "metadata": {},
     "output_type": "execute_result"
    }
   ],
   "source": [
    "tweets = pd.read_csv('../data/dfs/vacina_tweets_rt.csv')\n",
    "tweets['text']"
   ]
  },
  {
   "cell_type": "code",
   "execution_count": 8,
   "metadata": {},
   "outputs": [],
   "source": [
    "tweets = tweets[tweets.user_fk.isin(user_rt.pk_cod)]"
   ]
  },
  {
   "cell_type": "code",
   "execution_count": 9,
   "metadata": {},
   "outputs": [],
   "source": [
    "tweets.to_csv('../data/dfs/vacina_tweets_rt.csv')"
   ]
  }
 ],
 "metadata": {
  "interpreter": {
   "hash": "5647d9f5b156b9767875ae0c43e29cb312d49586ea1924b13e0885760794bdf1"
  },
  "kernelspec": {
   "display_name": "Python 3.9.0 64-bit",
   "name": "python3"
  },
  "language_info": {
   "codemirror_mode": {
    "name": "ipython",
    "version": 3
   },
   "file_extension": ".py",
   "mimetype": "text/x-python",
   "name": "python",
   "nbconvert_exporter": "python",
   "pygments_lexer": "ipython3",
   "version": "3.9.0"
  },
  "orig_nbformat": 4
 },
 "nbformat": 4,
 "nbformat_minor": 2
}
