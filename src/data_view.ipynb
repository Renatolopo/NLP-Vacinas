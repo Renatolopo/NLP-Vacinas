{
 "cells": [
  {
   "cell_type": "code",
   "execution_count": 7,
   "metadata": {},
   "outputs": [],
   "source": [
    "import pandas as pd\n",
    "import os\n",
    "import matplotlib.pyplot as plt"
   ]
  },
  {
   "cell_type": "code",
   "execution_count": 61,
   "metadata": {},
   "outputs": [],
   "source": [
    "def get_colors(labes):\n",
    "    colors = {\n",
    "        'Neutro':'orange',\n",
    "        'Positivo':'green',\n",
    "        'Negativo':'red'\n",
    "    }\n",
    "    return [colors[x] for x in labes]\n"
   ]
  },
  {
   "cell_type": "code",
   "execution_count": 63,
   "metadata": {},
   "outputs": [
    {
     "name": "stdout",
     "output_type": "stream",
     "text": [
      "comentario vacina\n",
      "noticia vacina\n",
      "vacina paginas noticia\n",
      "vacina search tweets\n",
      "vacina tweets rt\n"
     ]
    }
   ],
   "source": [
    "files = os.listdir('../data/previsoes')\n",
    "\n",
    "for file in files:\n",
    "    title = file.replace('_predict.csv', '').replace('_', ' ')\n",
    "    print(f\"{(title)}\")\n",
    "    # read csv\n",
    "    df = pd.read_csv(f'../data/previsoes/{file}')\n",
    "\n",
    "    # plot\n",
    "    dist = pd.DataFrame(df['sentimento'].value_counts()).reset_index(False)\n",
    "    plt.bar(x=dist['index'], height=dist['sentimento'], color = get_colors(dist['index'].values))\n",
    "    plt.title(f'Distribuição de polaridade de {title}')\n",
    "\n",
    "    plt.savefig(f'../img/{title}.jpg')\n",
    "    plt.close()\n",
    "\n",
    "\n",
    "\n",
    "    \n"
   ]
  }
 ],
 "metadata": {
  "interpreter": {
   "hash": "86b8d54e23acd62ae0afd56a257cc43973efd002b6e1dafe09c32756ffa9fd96"
  },
  "kernelspec": {
   "display_name": "Python 3.9.0 64-bit",
   "name": "python3"
  },
  "language_info": {
   "codemirror_mode": {
    "name": "ipython",
    "version": 3
   },
   "file_extension": ".py",
   "mimetype": "text/x-python",
   "name": "python",
   "nbconvert_exporter": "python",
   "pygments_lexer": "ipython3",
   "version": "3.9.0"
  },
  "orig_nbformat": 4
 },
 "nbformat": 4,
 "nbformat_minor": 2
}
